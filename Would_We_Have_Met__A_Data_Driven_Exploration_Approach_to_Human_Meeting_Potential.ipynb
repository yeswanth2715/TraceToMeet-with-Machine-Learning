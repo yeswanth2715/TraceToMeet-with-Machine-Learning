{
  "nbformat": 4,
  "nbformat_minor": 0,
  "metadata": {
    "colab": {
      "provenance": []
    },
    "kernelspec": {
      "name": "python3",
      "display_name": "Python 3"
    },
    "language_info": {
      "name": "python"
    }
  },
  "cells": [
    {
      "cell_type": "code",
      "execution_count": 1,
      "metadata": {
        "id": "65yKV40NJL06"
      },
      "outputs": [],
      "source": [
        "import pandas as pd\n",
        "import numpy as np\n",
        "import matplotlib.pyplot as plt\n",
        "import seaborn as sns\n",
        "import re"
      ]
    },
    {
      "cell_type": "code",
      "source": [
        "df = pd.read_csv('/content/Richer_Synthetic_People_Dataset__India__1000_Records_.csv')"
      ],
      "metadata": {
        "id": "b-9fXDnDNRtE"
      },
      "execution_count": 2,
      "outputs": []
    },
    {
      "cell_type": "code",
      "source": [
        "\n",
        "\n",
        "def parse_city_timeline_str(timeline_str):\n",
        "    pattern = r'(\\w[\\w\\s]+) \\((\\d{4})-(\\d{4})\\)'\n",
        "    matches = re.findall(pattern, timeline_str)\n",
        "    return [(city.strip(), int(start), int(end)) for city, start, end in matches]\n",
        "\n",
        "df[\"Parsed_City_Timeline\"] = df[\"City_Timeline\"].apply(parse_city_timeline_str)\n"
      ],
      "metadata": {
        "id": "nmMYo5q8N6NF"
      },
      "execution_count": 3,
      "outputs": []
    },
    {
      "cell_type": "code",
      "source": [
        "multi_label_fields = [\n",
        "    \"Traits\", \"Character\", \"Hobbies\", \"Frequent_Places\",\n",
        "    \"Social_Platforms\", \"Languages\", \"Digital_Habits\"\n",
        "]\n",
        "\n",
        "for field in multi_label_fields:\n",
        "    df[field + \"_List\"] = df[field].apply(\n",
        "        lambda x: [i.strip() for i in x.split(\",\")] if pd.notnull(x) else []\n",
        "    )\n"
      ],
      "metadata": {
        "id": "O2cNgLsqPP8l"
      },
      "execution_count": 4,
      "outputs": []
    },
    {
      "cell_type": "code",
      "source": [
        "df[\"Last_Relationship_Year\"] = df[\"Last_Relationship_Year\"].fillna(0).astype(int)\n"
      ],
      "metadata": {
        "id": "47rjfaR2PmTx"
      },
      "execution_count": 5,
      "outputs": []
    },
    {
      "cell_type": "code",
      "source": [
        "df[\"Age\"] = 2025 - df[\"Birth_Year\"]\n"
      ],
      "metadata": {
        "id": "AeLzmQb_Poyf"
      },
      "execution_count": 6,
      "outputs": []
    },
    {
      "cell_type": "markdown",
      "source": [
        "**DID THEY MEET? ENGINE**"
      ],
      "metadata": {
        "id": "TbXtkIF8P44E"
      }
    },
    {
      "cell_type": "markdown",
      "source": [
        "Step 1: City-Time Overlap Check"
      ],
      "metadata": {
        "id": "xelr--a3QKc3"
      }
    },
    {
      "cell_type": "code",
      "source": [
        "def city_time_overlap(person1, person2):\n",
        "    \"\"\"\n",
        "    Returns True if person1 and person2 lived in the same city during overlapping years.\n",
        "    \"\"\"\n",
        "    for city1, start1, end1 in person1[\"Parsed_City_Timeline\"]:\n",
        "        for city2, start2, end2 in person2[\"Parsed_City_Timeline\"]:\n",
        "            if city1 == city2 and max(start1, start2) < min(end1, end2):\n",
        "                return True\n",
        "    return False\n"
      ],
      "metadata": {
        "id": "V-OKAplgQJ2_"
      },
      "execution_count": 7,
      "outputs": []
    },
    {
      "cell_type": "markdown",
      "source": [
        "Step 2: is_age_compatible(person1, person2, tolerance=5)"
      ],
      "metadata": {
        "id": "Th1gbNKcQvtl"
      }
    },
    {
      "cell_type": "code",
      "source": [
        "def is_age_compatible(person1, person2, tolerance=5):\n",
        "    \"\"\"\n",
        "    Returns True if the age difference between two people is within the given tolerance.\n",
        "    \"\"\"\n",
        "    return abs(person1[\"Age\"] - person2[\"Age\"]) <= tolerance\n"
      ],
      "metadata": {
        "id": "uuYC61NHQBZO"
      },
      "execution_count": 8,
      "outputs": []
    },
    {
      "cell_type": "markdown",
      "source": [
        "Step 3: combined_trait_similarity(person1, person2)"
      ],
      "metadata": {
        "id": "P6pCOpaTQ9Nz"
      }
    },
    {
      "cell_type": "markdown",
      "source": [
        "   Step 3.1: First, we build a helper function: jaccard_similarity()"
      ],
      "metadata": {
        "id": "83XnNR6ZRMHN"
      }
    },
    {
      "cell_type": "code",
      "source": [
        "def jaccard_similarity(list1, list2):\n",
        "    \"\"\"\n",
        "    Calculates Jaccard similarity between two lists (as sets).\n",
        "    Returns a value between 0 and 1.\n",
        "    \"\"\"\n",
        "    set1, set2 = set(list1), set(list2)\n",
        "    if not set1 and not set2:\n",
        "        return 1.0  # both empty = perfect match\n",
        "    return len(set1 & set2) / len(set1 | set2)\n"
      ],
      "metadata": {
        "id": "FIKur9G9RP4l"
      },
      "execution_count": 10,
      "outputs": []
    },
    {
      "cell_type": "markdown",
      "source": [
        "Step 3.2: Now build the full trait matcher:"
      ],
      "metadata": {
        "id": "2Sk8WWsARInv"
      }
    },
    {
      "cell_type": "code",
      "source": [
        "def combined_trait_similarity(person1, person2):\n",
        "    \"\"\"\n",
        "    Returns the average similarity across multiple behavioral fields.\n",
        "    \"\"\"\n",
        "    traits = jaccard_similarity(person1[\"Traits_List\"], person2[\"Traits_List\"])\n",
        "    hobbies = jaccard_similarity(person1[\"Hobbies_List\"], person2[\"Hobbies_List\"])\n",
        "    socials = jaccard_similarity(person1[\"Social_Platforms_List\"], person2[\"Social_Platforms_List\"])\n",
        "    places = jaccard_similarity(person1[\"Frequent_Places_List\"], person2[\"Frequent_Places_List\"])\n",
        "    character = jaccard_similarity(person1[\"Character_List\"], person2[\"Character_List\"])\n",
        "\n",
        "    return (traits + hobbies + socials + places + character) / 5\n"
      ],
      "metadata": {
        "id": "oCMAMFPOQ94f"
      },
      "execution_count": 11,
      "outputs": []
    },
    {
      "cell_type": "markdown",
      "source": [
        "Step 4: meeting_score(person1, person2)"
      ],
      "metadata": {
        "id": "WBUCyvr_RjnF"
      }
    },
    {
      "cell_type": "code",
      "source": [
        "def meeting_score(person1, person2):\n",
        "    \"\"\"\n",
        "    Combines city-time overlap, age compatibility, and trait similarity into a final meeting score (0 to 1).\n",
        "    \"\"\"\n",
        "    location_score = 1.0 if city_time_overlap(person1, person2) else 0.0\n",
        "    age_score = 1.0 if is_age_compatible(person1, person2) else 0.0\n",
        "    similarity_score = combined_trait_similarity(person1, person2)\n",
        "\n",
        "    # Final weighted combination\n",
        "    final_score = (0.5 * location_score) + (0.2 * age_score) + (0.3 * similarity_score)\n",
        "    return round(final_score, 3)\n"
      ],
      "metadata": {
        "id": "yuTIQ51GRmDa"
      },
      "execution_count": 12,
      "outputs": []
    },
    {
      "cell_type": "markdown",
      "source": [
        "FINDING **RESULTS**"
      ],
      "metadata": {
        "id": "jJgM9s9JWPU5"
      }
    },
    {
      "cell_type": "code",
      "source": [
        "\n",
        "ref_person = df[\n",
        "    (df[\"Name\"].str.lower() == \"adira\") &\n",
        "    (df[\"Gender\"].str.lower() == \"female\") &\n",
        "    (df[\"Birth_Year\"] == 2005)\n",
        "]\n",
        "\n",
        "def find_top_matches(reference_person, dataset, top_n=1):\n",
        "    results = []\n",
        "    for _, other in dataset.iterrows():\n",
        "        if other[\"Name\"] != reference_person[\"Name\"]:\n",
        "            score = meeting_score(reference_person, other)\n",
        "            results.append({\n",
        "                \"Name\": other[\"Name\"],\n",
        "                \"Score\": score,\n",
        "                \"Current_City\": other[\"Current_City\"],\n",
        "                \"Age\": other[\"Age\"]\n",
        "            })\n",
        "    result_df = pd.DataFrame(results)\n",
        "    return result_df.sort_values(by=\"Score\", ascending=False).head(top_n)\n",
        "\n",
        "if not ref_person.empty:\n",
        "    reference_person = ref_person.iloc[0]\n",
        "    best_match_df = find_top_matches(reference_person, df, top_n=1)\n",
        "    best_match = best_match_df.iloc[0]\n",
        "    print(f\"💘 Best Match for Adira is {best_match['Name']} from {best_match['Current_City']} \"\n",
        "          f\"(Age {best_match['Age']}) with a match score of {best_match['Score']}\")\n",
        "else:\n",
        "    print(\"❌ Adira (Female, Born 2005) not found in the dataset.\")"
      ],
      "metadata": {
        "colab": {
          "base_uri": "https://localhost:8080/"
        },
        "id": "7D48ID0mWOb1",
        "outputId": "bba8df82-7ac5-4c12-bb41-cbc8da98d4e5"
      },
      "execution_count": 15,
      "outputs": [
        {
          "output_type": "stream",
          "name": "stdout",
          "text": [
            "💘 Best Match for Adira is Umang from Durg (Age 25) with a match score of 0.882\n"
          ]
        }
      ]
    },
    {
      "cell_type": "code",
      "source": [
        "# Step 1: Filter to FEMALES only from dataset\n",
        "female_df = df[df[\"Gender\"].str.lower() == \"female\"]\n",
        "\n",
        "# Step 2: Reuse the custom user profile\n",
        "custom_user = {\n",
        "    \"Name\": \"Yeswanthreddy Jampala\",\n",
        "    \"Gender\": \"male\",\n",
        "    \"Birth_Year\": 2002,\n",
        "    \"Age\": 2025 - 2002,\n",
        "    \"Parsed_City_Timeline\": [(\"Kadapa\", 2002, 2019), (\"Hyderabad\", 2019, 2024)],\n",
        "    \"Traits_List\": [\"silent\", \"hardworking\", \"introvert\"],\n",
        "    \"Hobbies_List\": [\"cricket\", \"music\", \"travel\"],\n",
        "    \"Character_List\": [\"single\", \"shy\", \"quiet\"],\n",
        "    \"Frequent_Places_List\": [\"theatre\", \"temple\", \"streets\"],\n",
        "    \"Social_Platforms_List\": [\"X\", \"instagram\"]\n",
        "}\n",
        "\n",
        "# Step 3: Matching function for top 1 female\n",
        "def find_best_female_match(user_profile, dataset):\n",
        "    results = []\n",
        "    for _, other in dataset.iterrows():\n",
        "        score = meeting_score(user_profile, other)\n",
        "        results.append({\n",
        "            \"Name\": other[\"Name\"],\n",
        "            \"Score\": score,\n",
        "            \"Current_City\": other[\"Current_City\"],\n",
        "            \"Age\": other[\"Age\"]\n",
        "        })\n",
        "    result_df = pd.DataFrame(results)\n",
        "    return result_df.sort_values(by=\"Score\", ascending=False).head(1)\n",
        "\n",
        "# Step 4: Run it\n",
        "top_female_match = find_best_female_match(custom_user, female_df)\n",
        "\n",
        "print(\"💘 Best Female Match for Yeswanthreddy Jampala:\")\n",
        "print(top_female_match)\n"
      ],
      "metadata": {
        "colab": {
          "base_uri": "https://localhost:8080/"
        },
        "id": "rBFQ9ad_Yyv2",
        "outputId": "a4573fd4-2d08-4b8e-cd4e-94e3b961896c"
      },
      "execution_count": 16,
      "outputs": [
        {
          "output_type": "stream",
          "name": "stdout",
          "text": [
            "💘 Best Female Match for Yeswanthreddy Jampala:\n",
            "      Name  Score Current_City  Age\n",
            "339  Neysa  0.299     Gulbarga   22\n"
          ]
        }
      ]
    }
  ]
}